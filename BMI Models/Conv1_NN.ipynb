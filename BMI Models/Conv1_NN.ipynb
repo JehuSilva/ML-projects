{
  "nbformat": 4,
  "nbformat_minor": 0,
  "metadata": {
    "colab": {
      "name": "Conv1 NN",
      "provenance": [],
      "collapsed_sections": []
    },
    "kernelspec": {
      "name": "python3",
      "display_name": "Python 3"
    }
  },
  "cells": [
    {
      "cell_type": "code",
      "metadata": {
        "id": "3Bsfni5xDmO9",
        "outputId": "4a28f09a-c654-4014-fe65-1a3d7a1ea369",
        "colab": {
          "base_uri": "https://localhost:8080/",
          "height": 185
        }
      },
      "source": [
        "from google.colab import drive\n",
        "drive.mount(\"/content/drive/\")\n",
        "\n",
        "from __future__ import print_function, division\n",
        "from keras.layers import Convolution1D, Dense, MaxPooling1D, Flatten, Dropout\n",
        "from keras.models import Sequential\n",
        "from sklearn.model_selection import train_test_split\n",
        "from keras.utils import normalize\n",
        "from keras.models import model_from_json\n",
        "import tensorflow as tf\n",
        "tf.logging.set_verbosity(tf.logging.ERROR)\n",
        "\n",
        "from matplotlib import pyplot\n",
        "import pandas as pd\n",
        "import numpy as np\n",
        "import os\n"
      ],
      "execution_count": null,
      "outputs": [
        {
          "output_type": "stream",
          "text": [
            "Go to this URL in a browser: https://accounts.google.com/o/oauth2/auth?client_id=947318989803-6bn6qk8qdgf4n4g3pfee6491hc0brc4i.apps.googleusercontent.com&redirect_uri=urn%3aietf%3awg%3aoauth%3a2.0%3aoob&response_type=code&scope=email%20https%3a%2f%2fwww.googleapis.com%2fauth%2fdocs.test%20https%3a%2f%2fwww.googleapis.com%2fauth%2fdrive%20https%3a%2f%2fwww.googleapis.com%2fauth%2fdrive.photos.readonly%20https%3a%2f%2fwww.googleapis.com%2fauth%2fpeopleapi.readonly\n",
            "\n",
            "Enter your authorization code:\n",
            "··········\n",
            "Mounted at /content/drive/\n"
          ],
          "name": "stdout"
        },
        {
          "output_type": "stream",
          "text": [
            "Using TensorFlow backend.\n"
          ],
          "name": "stderr"
        },
        {
          "output_type": "display_data",
          "data": {
            "text/html": [
              "<p style=\"color: red;\">\n",
              "The default version of TensorFlow in Colab will soon switch to TensorFlow 2.x.<br>\n",
              "We recommend you <a href=\"https://www.tensorflow.org/guide/migrate\" target=\"_blank\">upgrade</a> now \n",
              "or ensure your notebook will continue to use TensorFlow 1.x via the <code>%tensorflow_version 1.x</code> magic:\n",
              "<a href=\"https://colab.research.google.com/notebooks/tensorflow_version.ipynb\" target=\"_blank\">more info</a>.</p>\n"
            ],
            "text/plain": [
              "<IPython.core.display.HTML object>"
            ]
          },
          "metadata": {
            "tags": []
          }
        }
      ]
    },
    {
      "cell_type": "code",
      "metadata": {
        "id": "9HrZWg0VDqBJ"
      },
      "source": [
        "def importData(chanel,directory='/content/drive/My Drive/Colab Notebooks/100RH/Data.csv'):\n",
        "    df=pd.DataFrame()\n",
        "    df=pd.read_csv(directory)\n",
        "\n",
        "    Labels= df.groupby(['Label'])\n",
        "    CRH=Labels.get_group('CRH')\n",
        "    ORH=Labels.get_group('ORH')\n",
        "    N=  Labels.get_group('N')\n",
        "\n",
        "    ORH_Data=ORH.groupby(['nSample'])\n",
        "    CRH_Data=CRH.groupby(['nSample'])\n",
        "    N_Data=N.groupby(['nSample'])\n",
        "    data=[]\n",
        "    labels=[]\n",
        "\n",
        "    for i in range(1,1201):\n",
        "        ORH=ORH_Data.get_group(i)#.iloc[:,2:]\n",
        "        CRH=CRH_Data.get_group(i)#.iloc[:,2:]\n",
        "        data.append(ORH[chanel])\n",
        "        labels.append(0)\n",
        "        data.append(CRH[chanel])\n",
        "        labels.append(1)\n",
        "    for i in range(1,801):\n",
        "        N=N_Data.get_group(i)\n",
        "        data.append(N[chanel])\n",
        "        labels.append(2)\n",
        "\n",
        "    data=normalize(data, axis = 1)\n",
        "\n",
        "    xTrain,xTest,yTrain,yTest= train_test_split(data,labels, test_size=0.2, random_state=42)\n",
        "    xTrain=np.array(xTrain)\n",
        "    xTest=np.array(xTest)\n",
        "    yTrain=np.array(yTrain)\n",
        "    yTest=np.array(yTest)\n",
        "    print('Data loaded')\n",
        "\n",
        "    return xTrain,xTest,yTrain,yTest\n",
        "\n",
        "def saveData(self,folderName='/content/drive/My Drive/Colab Notebooks/100RH/'):\n",
        "    df.to_csv(folderName+'fileData.csv',index=False)\n",
        "    print('Data saved')\n",
        "\n",
        "def saveModel(model):\n",
        "    # serialize model to JSON\n",
        "    model_json = model.to_json()\n",
        "    with open(\"model.json\", \"w\") as json_file:\n",
        "        json_file.write(model_json)\n",
        "    # serialize weights to HDF5\n",
        "    model.save_weights(\"model.h5\")\n",
        "    print(\"Saved model to disk\")\n",
        "\n",
        "def loadModel():\n",
        "    #Save and reuse model\n",
        "    json_file = open('model.json', 'r')\n",
        "    loaded_model_json = json_file.read()\n",
        "    json_file.close()\n",
        "\n",
        "    loaded_model = model_from_json(loaded_model_json)\n",
        "    # load weights into new model\n",
        "\n",
        "    loaded_model.load_weights(\"model.h5\")\n",
        "\n",
        "    print(\"Loaded model from disk\")\n",
        "    return loaded_model"
      ],
      "execution_count": null,
      "outputs": []
    },
    {
      "cell_type": "code",
      "metadata": {
        "id": "aJ3NJKK6DxuL",
        "outputId": "049b0c5c-92c6-448f-fbd6-509bb0058de3",
        "colab": {
          "base_uri": "https://localhost:8080/",
          "height": 34
        }
      },
      "source": [
        "xTrain,xTest,yTrain,yTest=importData(chanel=\" T7\")\n",
        "\n",
        "xTrain=xTrain.reshape(2560,225,1)\n",
        "yTrain=yTrain.reshape(2560,1)\n",
        "xTest=xTest.reshape(640,225,1)\n",
        "yTest=yTest.reshape(640,1)\n",
        "yyTest=np.zeros((640,3))\n",
        "yyTrain=np.zeros((2560,3))\n",
        "\n",
        "for j in range(0,640):\n",
        "    yyTest[j][yTest[j]]=1\n",
        "for j in range(0,2560):\n",
        "    yyTrain[j][yTrain[j]]=1"
      ],
      "execution_count": null,
      "outputs": [
        {
          "output_type": "stream",
          "text": [
            "Data loaded\n"
          ],
          "name": "stdout"
        }
      ]
    },
    {
      "cell_type": "code",
      "metadata": {
        "id": "__wKGEiDEMpr"
      },
      "source": [
        "def getModel(window_size=225, filtersLength=40, nb_input_series=1, nb_outputs=3, filters=20):\n",
        "    model = Sequential((\n",
        "        #Convolution1D(filters=filters, filter_length=filtersLength, activation='relu', input_shape=(window_size, nb_input_series)),\n",
        "        Convolution1D(nb_filter=filters, filter_length=filtersLength, activation='relu', input_shape=(window_size, nb_input_series)),\n",
        "        MaxPooling1D(),\\\n",
        "        Convolution1D(nb_filter=filters, filter_length=filtersLength, activation='relu'),\n",
        "        MaxPooling1D(),\\\n",
        "        #Convolution1D(nb_filter=filters, filter_length=filtersLength, activation='relu'),\n",
        "        #MaxPooling1D(),\\\n",
        "        Flatten(),\n",
        "        #Dense(nb_outputs, activation='linear'),     # For binary classification, change the activation to 'sigmoid'\n",
        "        #Dense(nb_outputs, activation='sigmoid'),\n",
        "        Dense(nb_outputs, activation='softmax'),\n",
        "    ))\n",
        "\n",
        "    model.compile(loss='mse', optimizer='adam', metrics=['mae'])\n",
        "    #model.compile(loss='binary_crossentropy', optimizer='adam', metrics=['binary_accuracy'])\n",
        "    return model"
      ],
      "execution_count": null,
      "outputs": []
    },
    {
      "cell_type": "code",
      "metadata": {
        "id": "EOno8bBlElA3"
      },
      "source": [
        "nb_series=1\n",
        "nb_outputs=3\n",
        "filtersLength=40\n",
        "window_size=225\n",
        "filters =50\n",
        "epochs=50\n",
        "batchSize=20"
      ],
      "execution_count": null,
      "outputs": []
    },
    {
      "cell_type": "code",
      "metadata": {
        "id": "KcHdeJ5eEpPQ",
        "outputId": "49c4fcd8-74b7-43e9-e247-a3128c1b5eb1",
        "colab": {
          "base_uri": "https://localhost:8080/",
          "height": 1000
        }
      },
      "source": [
        "model=getModel(window_size=window_size, filtersLength=filtersLength, nb_input_series=nb_series, nb_outputs=nb_outputs,filters=filters)\n",
        "print('\\n\\nModel with input size {}, output size {}, {} conv filters of length {}'.format(model.input_shape, model.output_shape, filters, filtersLength))\n",
        "model.summary()\n",
        "\n",
        "model.compile(loss='binary_crossentropy', optimizer='rmsprop', metrics=['accuracy'])\n",
        "history=model.fit(xTrain, yyTrain, nb_epoch=epochs, batch_size=batchSize, validation_data=(xTest, yyTest))\n",
        "\n",
        "saveModel(model)\n",
        "# evaluate loaded\n",
        "\n",
        "score =model.evaluate(xTest, yyTest, batch_size=batchSize,verbose=0)\n",
        "\n",
        "print(\"%s: %.2f%%\" % (model.metrics_names[1], score[1]*100))\n",
        "\n",
        "\n",
        "\n",
        "pred = model.predict(xTest)\n"
      ],
      "execution_count": null,
      "outputs": [
        {
          "output_type": "stream",
          "text": [
            "/usr/local/lib/python3.6/dist-packages/ipykernel_launcher.py:4: UserWarning: Update your `Conv1D` call to the Keras 2 API: `Conv1D(activation=\"relu\", input_shape=(225, 1), filters=50, kernel_size=40)`\n",
            "  after removing the cwd from sys.path.\n",
            "/usr/local/lib/python3.6/dist-packages/ipykernel_launcher.py:6: UserWarning: Update your `Conv1D` call to the Keras 2 API: `Conv1D(activation=\"relu\", filters=50, kernel_size=40)`\n",
            "  \n",
            "/usr/local/lib/python3.6/dist-packages/ipykernel_launcher.py:6: UserWarning: The `nb_epoch` argument in `fit` has been renamed `epochs`.\n",
            "  \n"
          ],
          "name": "stderr"
        },
        {
          "output_type": "stream",
          "text": [
            "\n",
            "\n",
            "Model with input size (None, 225, 1), output size (None, 3), 50 conv filters of length 40\n",
            "Model: \"sequential_1\"\n",
            "_________________________________________________________________\n",
            "Layer (type)                 Output Shape              Param #   \n",
            "=================================================================\n",
            "conv1d_1 (Conv1D)            (None, 186, 50)           2050      \n",
            "_________________________________________________________________\n",
            "max_pooling1d_1 (MaxPooling1 (None, 93, 50)            0         \n",
            "_________________________________________________________________\n",
            "conv1d_2 (Conv1D)            (None, 54, 50)            100050    \n",
            "_________________________________________________________________\n",
            "max_pooling1d_2 (MaxPooling1 (None, 27, 50)            0         \n",
            "_________________________________________________________________\n",
            "flatten_1 (Flatten)          (None, 1350)              0         \n",
            "_________________________________________________________________\n",
            "dense_1 (Dense)              (None, 3)                 4053      \n",
            "=================================================================\n",
            "Total params: 106,153\n",
            "Trainable params: 106,153\n",
            "Non-trainable params: 0\n",
            "_________________________________________________________________\n",
            "Train on 2560 samples, validate on 640 samples\n",
            "Epoch 1/50\n",
            "2560/2560 [==============================] - 5s 2ms/step - loss: 0.6328 - acc: 0.6667 - val_loss: 0.6239 - val_acc: 0.6667\n",
            "Epoch 2/50\n",
            "2560/2560 [==============================] - 5s 2ms/step - loss: 0.6286 - acc: 0.6664 - val_loss: 0.6211 - val_acc: 0.6667\n",
            "Epoch 3/50\n",
            "2560/2560 [==============================] - 5s 2ms/step - loss: 0.6226 - acc: 0.6659 - val_loss: 0.6239 - val_acc: 0.6682\n",
            "Epoch 4/50\n",
            "2560/2560 [==============================] - 4s 2ms/step - loss: 0.6108 - acc: 0.6703 - val_loss: 0.6372 - val_acc: 0.6599\n",
            "Epoch 5/50\n",
            "2560/2560 [==============================] - 4s 2ms/step - loss: 0.5931 - acc: 0.6841 - val_loss: 0.6426 - val_acc: 0.6604\n",
            "Epoch 6/50\n",
            "2560/2560 [==============================] - 5s 2ms/step - loss: 0.5669 - acc: 0.7120 - val_loss: 0.6537 - val_acc: 0.6427\n",
            "Epoch 7/50\n",
            "2560/2560 [==============================] - 5s 2ms/step - loss: 0.5529 - acc: 0.7224 - val_loss: 0.6746 - val_acc: 0.6255\n",
            "Epoch 8/50\n",
            "2560/2560 [==============================] - 5s 2ms/step - loss: 0.5086 - acc: 0.7637 - val_loss: 0.6771 - val_acc: 0.6281\n",
            "Epoch 9/50\n",
            "2560/2560 [==============================] - 4s 2ms/step - loss: 0.4667 - acc: 0.7904 - val_loss: 0.7151 - val_acc: 0.6208\n",
            "Epoch 10/50\n",
            "2560/2560 [==============================] - 5s 2ms/step - loss: 0.4208 - acc: 0.8258 - val_loss: 0.7288 - val_acc: 0.6099\n",
            "Epoch 11/50\n",
            "2560/2560 [==============================] - 5s 2ms/step - loss: 0.3835 - acc: 0.8461 - val_loss: 0.8029 - val_acc: 0.5896\n",
            "Epoch 12/50\n",
            "2560/2560 [==============================] - 5s 2ms/step - loss: 0.3314 - acc: 0.8790 - val_loss: 0.7915 - val_acc: 0.6089\n",
            "Epoch 13/50\n",
            "2560/2560 [==============================] - 5s 2ms/step - loss: 0.3027 - acc: 0.8870 - val_loss: 0.8345 - val_acc: 0.5906\n",
            "Epoch 14/50\n",
            "2560/2560 [==============================] - 5s 2ms/step - loss: 0.2535 - acc: 0.9234 - val_loss: 0.8747 - val_acc: 0.5849\n",
            "Epoch 15/50\n",
            "2560/2560 [==============================] - 5s 2ms/step - loss: 0.2277 - acc: 0.9283 - val_loss: 0.9996 - val_acc: 0.5599\n",
            "Epoch 16/50\n",
            "2560/2560 [==============================] - 5s 2ms/step - loss: 0.1853 - acc: 0.9503 - val_loss: 1.0492 - val_acc: 0.5911\n",
            "Epoch 17/50\n",
            "2560/2560 [==============================] - 5s 2ms/step - loss: 0.1567 - acc: 0.9617 - val_loss: 1.0599 - val_acc: 0.5781\n",
            "Epoch 18/50\n",
            "2560/2560 [==============================] - 5s 2ms/step - loss: 0.1236 - acc: 0.9754 - val_loss: 1.0939 - val_acc: 0.5948\n",
            "Epoch 19/50\n",
            "2560/2560 [==============================] - 5s 2ms/step - loss: 0.1007 - acc: 0.9807 - val_loss: 1.1794 - val_acc: 0.5672\n",
            "Epoch 20/50\n",
            "2560/2560 [==============================] - 5s 2ms/step - loss: 0.0886 - acc: 0.9826 - val_loss: 1.2259 - val_acc: 0.5854\n",
            "Epoch 21/50\n",
            "2560/2560 [==============================] - 5s 2ms/step - loss: 0.0633 - acc: 0.9915 - val_loss: 1.3009 - val_acc: 0.5792\n",
            "Epoch 22/50\n",
            "2560/2560 [==============================] - 5s 2ms/step - loss: 0.0514 - acc: 0.9928 - val_loss: 1.3448 - val_acc: 0.5818\n",
            "Epoch 23/50\n",
            "2560/2560 [==============================] - 5s 2ms/step - loss: 0.0401 - acc: 0.9961 - val_loss: 1.4874 - val_acc: 0.5542\n",
            "Epoch 24/50\n",
            "2560/2560 [==============================] - 5s 2ms/step - loss: 0.0503 - acc: 0.9867 - val_loss: 1.6576 - val_acc: 0.5609\n",
            "Epoch 25/50\n",
            "2560/2560 [==============================] - 5s 2ms/step - loss: 0.0400 - acc: 0.9908 - val_loss: 1.5556 - val_acc: 0.5677\n",
            "Epoch 26/50\n",
            "2560/2560 [==============================] - 5s 2ms/step - loss: 0.0224 - acc: 0.9980 - val_loss: 1.6335 - val_acc: 0.5677\n",
            "Epoch 27/50\n",
            "2560/2560 [==============================] - 5s 2ms/step - loss: 0.0158 - acc: 0.9990 - val_loss: 1.6816 - val_acc: 0.5646\n",
            "Epoch 28/50\n",
            "2560/2560 [==============================] - 5s 2ms/step - loss: 0.0133 - acc: 0.9988 - val_loss: 1.8351 - val_acc: 0.5849\n",
            "Epoch 29/50\n",
            "2560/2560 [==============================] - 5s 2ms/step - loss: 0.0152 - acc: 0.9962 - val_loss: 1.8681 - val_acc: 0.5688\n",
            "Epoch 30/50\n",
            "2560/2560 [==============================] - 5s 2ms/step - loss: 0.0123 - acc: 0.9967 - val_loss: 1.9055 - val_acc: 0.5594\n",
            "Epoch 31/50\n",
            "2560/2560 [==============================] - 5s 2ms/step - loss: 0.0101 - acc: 0.9986 - val_loss: 1.9901 - val_acc: 0.5573\n",
            "Epoch 32/50\n",
            "2560/2560 [==============================] - 5s 2ms/step - loss: 0.0062 - acc: 0.9992 - val_loss: 2.0201 - val_acc: 0.5714\n",
            "Epoch 33/50\n",
            "2560/2560 [==============================] - 5s 2ms/step - loss: 0.0055 - acc: 0.9987 - val_loss: 2.1104 - val_acc: 0.5615\n",
            "Epoch 34/50\n",
            "2560/2560 [==============================] - 5s 2ms/step - loss: 0.0035 - acc: 1.0000 - val_loss: 2.1845 - val_acc: 0.5891\n",
            "Epoch 35/50\n",
            "2560/2560 [==============================] - 5s 2ms/step - loss: 0.0032 - acc: 1.0000 - val_loss: 2.2231 - val_acc: 0.5724\n",
            "Epoch 36/50\n",
            "2560/2560 [==============================] - 5s 2ms/step - loss: 0.0038 - acc: 0.9992 - val_loss: 2.2630 - val_acc: 0.5641\n",
            "Epoch 37/50\n",
            "2560/2560 [==============================] - 5s 2ms/step - loss: 0.0024 - acc: 0.9997 - val_loss: 2.3171 - val_acc: 0.5667\n",
            "Epoch 38/50\n",
            "2560/2560 [==============================] - 5s 2ms/step - loss: 0.0019 - acc: 1.0000 - val_loss: 2.2952 - val_acc: 0.5599\n",
            "Epoch 39/50\n",
            "2560/2560 [==============================] - 5s 2ms/step - loss: 0.0013 - acc: 1.0000 - val_loss: 2.3908 - val_acc: 0.5630\n",
            "Epoch 40/50\n",
            "2560/2560 [==============================] - 5s 2ms/step - loss: 0.0024 - acc: 0.9995 - val_loss: 2.4190 - val_acc: 0.5667\n",
            "Epoch 41/50\n",
            "2560/2560 [==============================] - 5s 2ms/step - loss: 9.7930e-04 - acc: 1.0000 - val_loss: 2.4823 - val_acc: 0.5656\n",
            "Epoch 42/50\n",
            "2560/2560 [==============================] - 5s 2ms/step - loss: 8.2918e-04 - acc: 1.0000 - val_loss: 2.5450 - val_acc: 0.5771\n",
            "Epoch 43/50\n",
            "2560/2560 [==============================] - 5s 2ms/step - loss: 7.9995e-04 - acc: 1.0000 - val_loss: 2.5890 - val_acc: 0.5531\n",
            "Epoch 44/50\n",
            "2560/2560 [==============================] - 5s 2ms/step - loss: 9.1863e-04 - acc: 0.9997 - val_loss: 2.6564 - val_acc: 0.5760\n",
            "Epoch 45/50\n",
            "2560/2560 [==============================] - 5s 2ms/step - loss: 4.5772e-04 - acc: 1.0000 - val_loss: 2.7277 - val_acc: 0.5833\n",
            "Epoch 46/50\n",
            "2560/2560 [==============================] - 5s 2ms/step - loss: 3.7087e-04 - acc: 1.0000 - val_loss: 2.7392 - val_acc: 0.5521\n",
            "Epoch 47/50\n",
            "2560/2560 [==============================] - 5s 2ms/step - loss: 4.2960e-04 - acc: 1.0000 - val_loss: 2.9790 - val_acc: 0.5875\n",
            "Epoch 48/50\n",
            "2560/2560 [==============================] - 5s 2ms/step - loss: 3.3578e-04 - acc: 1.0000 - val_loss: 2.8491 - val_acc: 0.5682\n",
            "Epoch 49/50\n",
            "2560/2560 [==============================] - 5s 2ms/step - loss: 4.0425e-04 - acc: 1.0000 - val_loss: 3.3908 - val_acc: 0.5229\n",
            "Epoch 50/50\n",
            "2560/2560 [==============================] - 5s 2ms/step - loss: 0.0011 - acc: 0.9997 - val_loss: 2.9567 - val_acc: 0.5661\n",
            "Saved model to disk\n",
            "acc: 56.61%\n"
          ],
          "name": "stdout"
        }
      ]
    },
    {
      "cell_type": "code",
      "metadata": {
        "id": "DtJOn83gIWvQ",
        "outputId": "92a1fd3c-4773-4ac2-e4a5-f0dcde6319b9",
        "colab": {
          "base_uri": "https://localhost:8080/",
          "height": 573
        }
      },
      "source": [
        "pyplot.plot(history.history['acc'])\n",
        "pyplot.plot(history.history['val_acc'])\n",
        "pyplot.title('model accuracy')\n",
        "pyplot.ylabel('accuracy')\n",
        "pyplot.xlabel('epoch')\n",
        "pyplot.legend(['train', 'test'], loc='upper left')\n",
        "pyplot.show()\n",
        "\n",
        "pyplot.plot(history.history['loss'])\n",
        "pyplot.plot(history.history['val_loss'])\n",
        "pyplot.title('model loss')\n",
        "pyplot.ylabel('loss')\n",
        "pyplot.xlabel('epoch')\n",
        "pyplot.legend(['train', 'test'], loc='upper left')\n",
        "pyplot.show()"
      ],
      "execution_count": null,
      "outputs": [
        {
          "output_type": "display_data",
          "data": {
            "image/png": "[encoded data removed]",
            "text/plain": [
              "<Figure size 432x288 with 1 Axes>"
            ]
          },
          "metadata": {
            "tags": []
          }
        },
        {
          "output_type": "display_data",
          "data": {
            "image/png": "[encoded data removed]",
            "text/plain": [
              "<Figure size 432x288 with 1 Axes>"
            ]
          },
          "metadata": {
            "tags": []
          }
        }
      ]
    },
    {
      "cell_type": "code",
      "metadata": {
        "id": "cxrWOUYsU5cG"
      },
      "source": [
        ""
      ],
      "execution_count": null,
      "outputs": []
    }
  ]
}