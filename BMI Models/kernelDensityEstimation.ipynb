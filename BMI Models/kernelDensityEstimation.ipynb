{
  "nbformat": 4,
  "nbformat_minor": 0,
  "metadata": {
    "colab": {
      "name": "Clasificador.ipynb",
      "provenance": [],
      "collapsed_sections": []
    },
    "kernelspec": {
      "name": "python3",
      "display_name": "Python 3"
    }
  },
  "cells": [
    {
      "cell_type": "markdown",
      "metadata": {
        "id": "3J5LgrIFvtul"
      },
      "source": [
        "#Clasificación de datos por el método de Kernel Density Estimation\n",
        "\n",
        "\n"
      ]
    },
    {
      "cell_type": "markdown",
      "metadata": {
        "id": "TE6__LlRwStv"
      },
      "source": [
        "En este trabajo se implementa un algoritmo de clasificación de datos de señales electroencefalográficas (EEG) por el método de Kernel Density Estimation (KDE) utilizando un kernel Gaussiano.\n",
        "\n",
        "Las señales EEG presentan formas muy complejas por lo que no es simple definir un criterio para distinguirlas.\n",
        "Anteriormente se analizó una base datos que contiene señales EEG de imagenes motoras de dos estimulos y la linea base. LOs estimulos son, movimiento de mano derecha (RH), movimiento de mano izquierda(LH) y neurtro (N). \n",
        "\n",
        "De acuerdo al analisis realizado, se determinó que dentro de los 14 canales que forman una señal de EEG. el canal con la mayor probabilidad de ser distinguible es el \"Fp1\" y asi mismo las frencuencias más distinguibles de la señal son de baja frecuencia, \"5 Hz\", \"6 Hz\" y \"7 Hz\".\n",
        "Partiendo del análisis previo, a continuación se implementa un clasificador pro medio del algoritmo KDE sabiendo que se utilizaran los datos de las frecuencias \"5 Hz\", \"6 Hz\" y \"7 Hz\" del canal \"Fp1\". "
      ]
    },
    {
      "cell_type": "markdown",
      "metadata": {
        "id": "6YEVhM6G1GKW"
      },
      "source": [
        "Se importan las librerias de Python."
      ]
    },
    {
      "cell_type": "code",
      "metadata": {
        "id": "mo7RmGHx3Ij2",
        "outputId": "30989c1b-9268-4e7d-d8ea-d2a989ff2fbc",
        "colab": {
          "base_uri": "https://localhost:8080/",
          "height": 710
        }
      },
      "source": [
        "from google.colab import drive\n",
        "drive.mount(\"/content/drive/\")\n",
        "from scipy.io import loadmat\n",
        "import numpy as np\n",
        "import matplotlib.pyplot as plt\n",
        "from mpl_toolkits.mplot3d import Axes3D\n",
        "from matplotlib import cm\n",
        "import numpy as geek\n",
        "import pandas as pd\n",
        "from scipy.stats import mannwhitneyu,wilcoxon\n",
        "from sklearn.neighbors import KernelDensity\n",
        "from sklearn.preprocessing import MinMaxScaler\n",
        "import sys\n",
        "from __future__ import division\n",
        "import operator\n",
        "import random\n",
        "from random import sample\n",
        "from sklearn.cluster import KMeans\n",
        "from scipy.stats import norm\n",
        "from sklearn.naive_bayes import GaussianNB\n",
        "from sklearn.naive_bayes import MultinomialNB\n",
        "from sklearn.model_selection import train_test_split\n",
        "from scipy.stats import norm\n",
        "import statistics as sts"
      ],
      "execution_count": null,
      "outputs": [
        {
          "output_type": "stream",
          "text": [
            "Go to this URL in a browser: https://accounts.google.com/o/oauth2/auth?client_id=947318989803-6bn6qk8qdgf4n4g3pfee6491hc0brc4i.apps.googleusercontent.com&redirect_uri=urn%3aietf%3awg%3aoauth%3a2.0%3aoob&response_type=code&scope=email%20https%3a%2f%2fwww.googleapis.com%2fauth%2fdocs.test%20https%3a%2f%2fwww.googleapis.com%2fauth%2fdrive%20https%3a%2f%2fwww.googleapis.com%2fauth%2fdrive.photos.readonly%20https%3a%2f%2fwww.googleapis.com%2fauth%2fpeopleapi.readonly\n",
            "\n",
            "Enter your authorization code:\n",
            "··········\n"
          ],
          "name": "stdout"
        },
        {
          "output_type": "error",
          "ename": "TIMEOUT",
          "evalue": "ignored",
          "traceback": [
            "\u001b[0;31m---------------------------------------------------------------------------\u001b[0m",
            "\u001b[0;31mTIMEOUT\u001b[0m                                   Traceback (most recent call last)",
            "\u001b[0;32m<ipython-input-1-c6e84ab0b394>\u001b[0m in \u001b[0;36m<module>\u001b[0;34m()\u001b[0m\n\u001b[1;32m      1\u001b[0m \u001b[0;32mfrom\u001b[0m \u001b[0mgoogle\u001b[0m\u001b[0;34m.\u001b[0m\u001b[0mcolab\u001b[0m \u001b[0;32mimport\u001b[0m \u001b[0mdrive\u001b[0m\u001b[0;34m\u001b[0m\u001b[0;34m\u001b[0m\u001b[0m\n\u001b[0;32m----> 2\u001b[0;31m \u001b[0mdrive\u001b[0m\u001b[0;34m.\u001b[0m\u001b[0mmount\u001b[0m\u001b[0;34m(\u001b[0m\u001b[0;34m\"/content/drive/\"\u001b[0m\u001b[0;34m)\u001b[0m\u001b[0;34m\u001b[0m\u001b[0;34m\u001b[0m\u001b[0m\n\u001b[0m\u001b[1;32m      3\u001b[0m \u001b[0;32mfrom\u001b[0m \u001b[0mscipy\u001b[0m\u001b[0;34m.\u001b[0m\u001b[0mio\u001b[0m \u001b[0;32mimport\u001b[0m \u001b[0mloadmat\u001b[0m\u001b[0;34m\u001b[0m\u001b[0;34m\u001b[0m\u001b[0m\n\u001b[1;32m      4\u001b[0m \u001b[0;32mimport\u001b[0m \u001b[0mnumpy\u001b[0m \u001b[0;32mas\u001b[0m \u001b[0mnp\u001b[0m\u001b[0;34m\u001b[0m\u001b[0;34m\u001b[0m\u001b[0m\n\u001b[1;32m      5\u001b[0m \u001b[0;32mimport\u001b[0m \u001b[0mmatplotlib\u001b[0m\u001b[0;34m.\u001b[0m\u001b[0mpyplot\u001b[0m \u001b[0;32mas\u001b[0m \u001b[0mplt\u001b[0m\u001b[0;34m\u001b[0m\u001b[0;34m\u001b[0m\u001b[0m\n",
            "\u001b[0;32m/usr/local/lib/python3.6/dist-packages/google/colab/drive.py\u001b[0m in \u001b[0;36mmount\u001b[0;34m(mountpoint, force_remount, timeout_ms, use_metadata_server)\u001b[0m\n\u001b[1;32m    218\u001b[0m         \u001b[0moauth_prompt\u001b[0m\u001b[0;34m,\u001b[0m\u001b[0;34m\u001b[0m\u001b[0;34m\u001b[0m\u001b[0m\n\u001b[1;32m    219\u001b[0m         \u001b[0mproblem_and_stopped\u001b[0m\u001b[0;34m,\u001b[0m\u001b[0;34m\u001b[0m\u001b[0;34m\u001b[0m\u001b[0m\n\u001b[0;32m--> 220\u001b[0;31m         \u001b[0mdrive_exited\u001b[0m\u001b[0;34m,\u001b[0m\u001b[0;34m\u001b[0m\u001b[0;34m\u001b[0m\u001b[0m\n\u001b[0m\u001b[1;32m    221\u001b[0m     ])\n\u001b[1;32m    222\u001b[0m     \u001b[0;32mif\u001b[0m \u001b[0mcase\u001b[0m \u001b[0;34m==\u001b[0m \u001b[0;36m0\u001b[0m\u001b[0;34m:\u001b[0m\u001b[0;34m\u001b[0m\u001b[0;34m\u001b[0m\u001b[0m\n",
            "\u001b[0;32m/usr/local/lib/python3.6/dist-packages/pexpect/spawnbase.py\u001b[0m in \u001b[0;36mexpect\u001b[0;34m(self, pattern, timeout, searchwindowsize, async_, **kw)\u001b[0m\n\u001b[1;32m    342\u001b[0m         \u001b[0mcompiled_pattern_list\u001b[0m \u001b[0;34m=\u001b[0m \u001b[0mself\u001b[0m\u001b[0;34m.\u001b[0m\u001b[0mcompile_pattern_list\u001b[0m\u001b[0;34m(\u001b[0m\u001b[0mpattern\u001b[0m\u001b[0;34m)\u001b[0m\u001b[0;34m\u001b[0m\u001b[0;34m\u001b[0m\u001b[0m\n\u001b[1;32m    343\u001b[0m         return self.expect_list(compiled_pattern_list,\n\u001b[0;32m--> 344\u001b[0;31m                 timeout, searchwindowsize, async_)\n\u001b[0m\u001b[1;32m    345\u001b[0m \u001b[0;34m\u001b[0m\u001b[0m\n\u001b[1;32m    346\u001b[0m     def expect_list(self, pattern_list, timeout=-1, searchwindowsize=-1,\n",
            "\u001b[0;32m/usr/local/lib/python3.6/dist-packages/pexpect/spawnbase.py\u001b[0m in \u001b[0;36mexpect_list\u001b[0;34m(self, pattern_list, timeout, searchwindowsize, async_, **kw)\u001b[0m\n\u001b[1;32m    370\u001b[0m             \u001b[0;32mreturn\u001b[0m \u001b[0mexpect_async\u001b[0m\u001b[0;34m(\u001b[0m\u001b[0mexp\u001b[0m\u001b[0;34m,\u001b[0m \u001b[0mtimeout\u001b[0m\u001b[0;34m)\u001b[0m\u001b[0;34m\u001b[0m\u001b[0;34m\u001b[0m\u001b[0m\n\u001b[1;32m    371\u001b[0m         \u001b[0;32melse\u001b[0m\u001b[0;34m:\u001b[0m\u001b[0;34m\u001b[0m\u001b[0;34m\u001b[0m\u001b[0m\n\u001b[0;32m--> 372\u001b[0;31m             \u001b[0;32mreturn\u001b[0m \u001b[0mexp\u001b[0m\u001b[0;34m.\u001b[0m\u001b[0mexpect_loop\u001b[0m\u001b[0;34m(\u001b[0m\u001b[0mtimeout\u001b[0m\u001b[0;34m)\u001b[0m\u001b[0;34m\u001b[0m\u001b[0;34m\u001b[0m\u001b[0m\n\u001b[0m\u001b[1;32m    373\u001b[0m \u001b[0;34m\u001b[0m\u001b[0m\n\u001b[1;32m    374\u001b[0m     def expect_exact(self, pattern_list, timeout=-1, searchwindowsize=-1,\n",
            "\u001b[0;32m/usr/local/lib/python3.6/dist-packages/pexpect/expect.py\u001b[0m in \u001b[0;36mexpect_loop\u001b[0;34m(self, timeout)\u001b[0m\n\u001b[1;32m    179\u001b[0m             \u001b[0;32mreturn\u001b[0m \u001b[0mself\u001b[0m\u001b[0;34m.\u001b[0m\u001b[0meof\u001b[0m\u001b[0;34m(\u001b[0m\u001b[0me\u001b[0m\u001b[0;34m)\u001b[0m\u001b[0;34m\u001b[0m\u001b[0;34m\u001b[0m\u001b[0m\n\u001b[1;32m    180\u001b[0m         \u001b[0;32mexcept\u001b[0m \u001b[0mTIMEOUT\u001b[0m \u001b[0;32mas\u001b[0m \u001b[0me\u001b[0m\u001b[0;34m:\u001b[0m\u001b[0;34m\u001b[0m\u001b[0;34m\u001b[0m\u001b[0m\n\u001b[0;32m--> 181\u001b[0;31m             \u001b[0;32mreturn\u001b[0m \u001b[0mself\u001b[0m\u001b[0;34m.\u001b[0m\u001b[0mtimeout\u001b[0m\u001b[0;34m(\u001b[0m\u001b[0me\u001b[0m\u001b[0;34m)\u001b[0m\u001b[0;34m\u001b[0m\u001b[0;34m\u001b[0m\u001b[0m\n\u001b[0m\u001b[1;32m    182\u001b[0m         \u001b[0;32mexcept\u001b[0m\u001b[0;34m:\u001b[0m\u001b[0;34m\u001b[0m\u001b[0;34m\u001b[0m\u001b[0m\n\u001b[1;32m    183\u001b[0m             \u001b[0mself\u001b[0m\u001b[0;34m.\u001b[0m\u001b[0merrored\u001b[0m\u001b[0;34m(\u001b[0m\u001b[0;34m)\u001b[0m\u001b[0;34m\u001b[0m\u001b[0;34m\u001b[0m\u001b[0m\n",
            "\u001b[0;32m/usr/local/lib/python3.6/dist-packages/pexpect/expect.py\u001b[0m in \u001b[0;36mtimeout\u001b[0;34m(self, err)\u001b[0m\n\u001b[1;32m    142\u001b[0m             \u001b[0mexc\u001b[0m \u001b[0;34m=\u001b[0m \u001b[0mTIMEOUT\u001b[0m\u001b[0;34m(\u001b[0m\u001b[0mmsg\u001b[0m\u001b[0;34m)\u001b[0m\u001b[0;34m\u001b[0m\u001b[0;34m\u001b[0m\u001b[0m\n\u001b[1;32m    143\u001b[0m             \u001b[0mexc\u001b[0m\u001b[0;34m.\u001b[0m\u001b[0m__cause__\u001b[0m \u001b[0;34m=\u001b[0m \u001b[0;32mNone\u001b[0m    \u001b[0;31m# in Python 3.x we can use \"raise exc from None\"\u001b[0m\u001b[0;34m\u001b[0m\u001b[0;34m\u001b[0m\u001b[0m\n\u001b[0;32m--> 144\u001b[0;31m             \u001b[0;32mraise\u001b[0m \u001b[0mexc\u001b[0m\u001b[0;34m\u001b[0m\u001b[0;34m\u001b[0m\u001b[0m\n\u001b[0m\u001b[1;32m    145\u001b[0m \u001b[0;34m\u001b[0m\u001b[0m\n\u001b[1;32m    146\u001b[0m     \u001b[0;32mdef\u001b[0m \u001b[0merrored\u001b[0m\u001b[0;34m(\u001b[0m\u001b[0mself\u001b[0m\u001b[0;34m)\u001b[0m\u001b[0;34m:\u001b[0m\u001b[0;34m\u001b[0m\u001b[0;34m\u001b[0m\u001b[0m\n",
            "\u001b[0;31mTIMEOUT\u001b[0m: <pexpect.popen_spawn.PopenSpawn object at 0x7f5bb27a8940>\nsearcher: searcher_re:\n    0: re.compile('google.colab.drive MOUNTED')\n    1: re.compile('root@f35bd17351da-8fc52ea305bd4d4bace6da86e5ca2f32: ')\n    2: re.compile('(Go to this URL in a browser: https://.*)$')\n    3: re.compile('Drive File Stream encountered a problem and has stopped')\n    4: re.compile('drive EXITED')\n<pexpect.popen_spawn.PopenSpawn object at 0x7f5bb27a8940>\nsearcher: searcher_re:\n    0: re.compile('google.colab.drive MOUNTED')\n    1: re.compile('root@f35bd17351da-8fc52ea305bd4d4bace6da86e5ca2f32: ')\n    2: re.compile('(Go to this URL in a browser: https://.*)$')\n    3: re.compile('Drive File Stream encountered a problem and has stopped')\n    4: re.compile('drive EXITED')"
          ]
        }
      ]
    },
    {
      "cell_type": "markdown",
      "metadata": {
        "id": "zWvTP_6w1KHG"
      },
      "source": [
        "Se preparan los datos contenidos en el archivo. "
      ]
    },
    {
      "cell_type": "code",
      "metadata": {
        "id": "_poNXvXz3OYA"
      },
      "source": [
        "def enumerarEtiquetas(etiquetas):\n",
        "  #lista=['0']*(etiquetas.size)\n",
        "  lista=[0]*(etiquetas.size)\n",
        "  lista2=['Nulo']*(etiquetas.size)\n",
        "  lista3=['Nulo']*(etiquetas.size)\n",
        "  etiqVec=[None]*5\n",
        "  for i in range(1,4):\n",
        "    etiqVec[i]=(etiquetas==i)*1\n",
        "    vectorRotado=np.roll(etiqVec[i],-1)\n",
        "    vectordeCambios=vectorRotado-etiqVec[i]\n",
        "    inicio=np.where(vectordeCambios==1)\n",
        "    fin=np.where(vectordeCambios==-1)\n",
        "    start=inicio[0]+1\n",
        "    end=fin[0]+1\n",
        "    if i==3:\n",
        "        cadena2='WM'\n",
        "    if i==2:\n",
        "        cadena2='RH'\n",
        "    if i==1:\n",
        "        cadena2='LH'\n",
        "\n",
        "    for indice in range(0,start.size):\n",
        "        for j in range(start[indice],end[indice]):\n",
        "            #cadena=str(i)+\"-\"+str(indice)\n",
        "            #lista[j]=cadena\n",
        "            lista[j]=indice\n",
        "            lista2[j]=cadena2\n",
        "  return np.array(lista),np.array(lista2)\n"
      ],
      "execution_count": null,
      "outputs": []
    },
    {
      "cell_type": "markdown",
      "metadata": {
        "id": "S2LsxcR81UHc"
      },
      "source": [
        "Se ordenan los datos en un DataFrame para procesarlos. "
      ]
    },
    {
      "cell_type": "code",
      "metadata": {
        "id": "OKXS-qNt3XZJ"
      },
      "source": [
        "\n",
        "direccion='/content/drive/My Drive/Colab Notebooks/'+'CLASubjectA1601083StLRHand.mat'\n",
        "\n",
        "mat=loadmat(direccion)   #load mat-file\n",
        "datos=mat['o']['data'][0,0]\n",
        "etiquetas=mat['o']['marker'][0,0]\n",
        "canales=['Fp1','Fp2','F3','F4','C3','C4','P3','P4','O1','O2','A1','A2','F7','F8','T3',\n",
        "                                     'T4','T5','T6','Fz','Cz','Pz','X5']\n",
        "puntos=200\n",
        "frequency=mat['o']['sampFreq'][0,0]\n",
        "nuevasEtiquetas,estimulos=enumerarEtiquetas(etiquetas)\n",
        "df_datos=pd.DataFrame(datos,columns=canales)\n",
        "df_etiquetas=pd.DataFrame(nuevasEtiquetas,columns=['Etiquetas'])\n",
        "df_estimulos=pd.DataFrame(estimulos,columns=['Estimulos'])\n",
        "df =pd.concat([df_estimulos,df_etiquetas,df_datos],axis=1)\n",
        "\n",
        "columns_features=['features']+canales\n",
        "featuresDF=pd.DataFrame(columns=columns_features)\n",
        "\n",
        "estimulosAgrupados= df.groupby(['Estimulos'])\n",
        "RH=estimulosAgrupados.get_group('RH')\n",
        "WM=estimulosAgrupados.get_group('WM')\n",
        "LH=estimulosAgrupados.get_group('LH')\n",
        "    \n",
        "RH_Data=RH.groupby(['Etiquetas'])\n",
        "WM_Data=WM.groupby(['Etiquetas'])\n",
        "LH_Data=LH.groupby(['Etiquetas'])\n",
        "\n",
        "\n"
      ],
      "execution_count": null,
      "outputs": []
    },
    {
      "cell_type": "markdown",
      "metadata": {
        "id": "wCoAiLZ_1bYB"
      },
      "source": [
        "La siguiente función obtiene los datos de training y de test de cada uno de los estimulos. "
      ]
    },
    {
      "cell_type": "code",
      "metadata": {
        "id": "NkJ_wd8iI7Ek"
      },
      "source": [
        "def Data(chanel,freq):\n",
        "  global RH_Data\n",
        "  global WM_Data\n",
        "  global LH_Data\n",
        "  global puntos\n",
        "\n",
        "  NumRealizaciones=LH_Data.ngroups\n",
        "  trainingDataNumber=round(0.7*NumRealizaciones)\n",
        "  testDataNumber=round(0.3*NumRealizaciones)\n",
        "  \n",
        "  L=sample(range(0,NumRealizaciones),NumRealizaciones)\n",
        "  vectorTrainingData=L[0:trainingDataNumber]\n",
        "  vectorTestData=L[trainingDataNumber:NumRealizaciones]\n",
        "  vectorData=[]\n",
        "  labels=[]\n",
        "  vectorD=[]\n",
        "  lbs=[]\n",
        "\n",
        "  Uc=3\n",
        "\n",
        "  for i in range(0,NumRealizaciones):\n",
        "    SignalsRH=RH_Data.get_group(i).iloc[:,2:]\n",
        "    SignalsLH=LH_Data.get_group(i).iloc[:,2:]\n",
        "    SignalsN=WM_Data.get_group(i).iloc[:,2:]\n",
        "    x=SignalsRH[chanel][0:puntos]\n",
        "    y=SignalsLH[chanel][0:puntos]\n",
        "    z=SignalsN[chanel][0:puntos]\n",
        "    TFx=2/puntos*np.abs(np.fft.fft(x))\n",
        "    TFy=2/puntos*np.abs(np.fft.fft(y))\n",
        "    TFz=2/puntos*np.abs(np.fft.fft(z))\n",
        "    Cfx=TFx[freq]\n",
        "    Cfy=TFy[freq]\n",
        "    Cfz=TFz[freq]\n",
        "\n",
        "    vectorData.append([Cfx])\n",
        "    labels.append(0)  \n",
        "    vectorData.append([Cfy])\n",
        "    labels.append(1)     \n",
        "    vectorData.append([Cfz])\n",
        "    labels.append(2)\n",
        "\n",
        "    for i in range(0,len(vectorData)):\n",
        "      if vectorData[i][0]>Uc:\n",
        "       vectorD.append(vectorData[i])\n",
        "       lbs.append(labels[i])\n",
        "\n",
        "  return vectorD,lbs\n",
        "\n",
        "\n",
        "class GaussianClassifier:\n",
        "  \"\"\"Clasificador Gaussiano\"\"\"\n",
        "\n",
        "\n",
        "  \"\"\"Calculo de media y varianza de cada conjunto de datos\"\"\"\n",
        "  def getParameters(self,X,y,st):\n",
        "    v=[]\n",
        "    for i in range(0,len(y)):\n",
        "      if y[i]==st:\n",
        "        v.append(X[i])\n",
        "    v=np.array(v)\n",
        "    return v.mean(),v.var()\n",
        "\n",
        "\n",
        "  def train(self,X,y):\n",
        "    \"\"\"Media y covarianza de las clases\"\"\"\n",
        "    self.mean_N,self.var_N=self.getParameters(X,y,0)\n",
        "    self.mean_RH,self.var_RH=self.getParameters(X,y,1)\n",
        "    self.mean_LH,self.var_LH=self.getParameters(X,y,2)\n",
        "\n",
        "    \"\"\"Probabilidad a priori\"\"\"\n",
        "    self.p_N=y.count(0)/len(y)\n",
        "    self.p_RH=y.count(1)/len(y)\n",
        "    self.p_LH=y.count(2)/len(y)\n",
        "\n",
        "    self.prob_N = norm(self.mean_N,self.var_N)\n",
        "    self.prob_RH = norm(self.mean_RH,self.var_RH)\n",
        "    self.prob_LH = norm(self.mean_LH,self.var_LH)\n",
        "    \n",
        "  def predict(self,X):\n",
        "    \"\"\"Probabilidad a posterior\"\"\"\n",
        "    preds=[]\n",
        "    p=[0]*3\n",
        "    preds=[]\n",
        "    for x in X:\n",
        "      x=x[0]\n",
        "      p[0]=self.prob_N.pdf(x)*self.p_N\n",
        "      p[1]=self.prob_RH.pdf(x)*self.p_RH\n",
        "      p[2]=self.prob_LH.pdf(x)*self.p_LH\n",
        "\n",
        "      ind=p.index(np.max(p))\n",
        "      preds.append(ind)\n",
        "\n",
        "    return preds\n",
        "\n",
        "    \"\"\"Calcula el porcentaje de precision del algoritmo\"\"\"    \n",
        "  def accuracy(self,y,labels):\n",
        "    acc=0\n",
        "    for i in range(0,len(y)):\n",
        "      if y[i]==labels[i]:\n",
        "        acc=acc+1\n",
        "    acc=acc/len(y)\n",
        "    return acc\n",
        "\n",
        "\n",
        "\n"
      ],
      "execution_count": null,
      "outputs": []
    },
    {
      "cell_type": "code",
      "metadata": {
        "id": "-zN2CvkgsuYE"
      },
      "source": [
        "def getData(stimulus,chanel,freq):\n",
        "  global RH_Data\n",
        "  global WM_Data\n",
        "  global LH_Data\n",
        "  global puntos\n",
        "\n",
        "  NumRealizaciones=LH_Data.ngroups\n",
        "  trainingDataNumber=round(0.8*NumRealizaciones)\n",
        "  testDataNumber=round(0.2*NumRealizaciones)\n",
        "  \n",
        "  L=sample(range(0,NumRealizaciones),NumRealizaciones)\n",
        "  vectorTrainingData=L[0:trainingDataNumber]\n",
        "  vectorTestData=L[trainingDataNumber:NumRealizaciones]\n",
        "  vectorData=[]\n",
        "\n",
        "  if stimulus=='RH':\n",
        "    for i in range(0,NumRealizaciones):\n",
        "      SignalsRH=RH_Data.get_group(i).iloc[:,2:]\n",
        "      x=SignalsRH[chanel][0:puntos]\n",
        "      TFx=2/puntos*np.abs(np.fft.fft(x))\n",
        "      Cfx=TFx[freq]\n",
        "      vectorData.append(Cfx)\n",
        "\n",
        "  elif stimulus=='LH':\n",
        "    for i in range(0,NumRealizaciones):\n",
        "      SignalsLH=LH_Data.get_group(i).iloc[:,2:]\n",
        "      y=SignalsLH[chanel][0:puntos]\n",
        "      TFy=2/puntos*np.abs(np.fft.fft(y))\n",
        "      Cfy=TFy[freq]\n",
        "      vectorData.append(Cfy)\n",
        "  elif stimulus=='N':\n",
        "    for i in range(0,NumRealizaciones):\n",
        "      SignalsN=WM_Data.get_group(i).iloc[:,2:]\n",
        "      z=SignalsN[chanel][0:puntos]\n",
        "      TFz=2/puntos*np.abs(np.fft.fft(z))\n",
        "      Cfz=TFz[freq]\n",
        "      vectorData.append(Cfz)\n",
        "  else:\n",
        "      print ('El estimulo no es correcto\\n')\n",
        "      return 0,0\n",
        "\n",
        "\n",
        "  trainingData=[]\n",
        "  testData=[]\n",
        "  for i in vectorTrainingData:\n",
        "    trainingData.append(vectorData[i])\n",
        "  for i in vectorTestData:\n",
        "    testData.append(vectorData[i])\n",
        "\n",
        "  trainingData=np.array(trainingData)\n",
        "  testData=np.array(testData)\n",
        "\n",
        "  #En esta parte se truncan los datos, despreciando los que tengan una potencia menor de 2\n",
        "  #trainingData = np.delete(trainingData, np.argwhere(trainingData <= 2))\n",
        "  #testData = np.delete(testData, np.argwhere(testData <= 4))\n",
        "\n",
        "  return trainingData,testData\n",
        "  #return np.array(trainingData)[:, np.newaxis],np.array(testData)[:, np.newaxis]\n"
      ],
      "execution_count": null,
      "outputs": []
    },
    {
      "cell_type": "markdown",
      "metadata": {
        "id": "_30WtHrh1jvb"
      },
      "source": [
        "Es definen los datos de training y test de cada uno de los estimulos, utilizando un 70% de training y 30% de test.\n",
        "\n",
        "Así mismo, se implementa el método de KDE por medio de la librería de sklearn y se construyen los modelos para cada uno de los estimulos. Luego, se grafican como se muestra a continuación. "
      ]
    },
    {
      "cell_type": "code",
      "metadata": {
        "id": "AkVY7pnKoZGC",
        "outputId": "a0c24527-cd76-4e3a-8cfa-390a689ade1a",
        "colab": {
          "base_uri": "https://localhost:8080/",
          "height": 390
        }
      },
      "source": [
        "density_param = {'density': True}\n",
        "freq=7\n",
        "#Se obtienen los datos de training y test de cada uno de los estimulos\n",
        "trainingData_N,testData_N=getData('N','Fp1',freq)\n",
        "trainingData_RH,testData_RH=getData('RH','Fp1',freq)\n",
        "trainingData_LH,testData_LH=getData('LH','Fp1',freq)\n",
        "\n",
        "trainingData_N=trainingData_N[:, np.newaxis]\n",
        "trainingData_RH=trainingData_RH[:, np.newaxis]\n",
        "trainingData_LH=trainingData_LH[:, np.newaxis]\n",
        "testData_N=testData_N[:, np.newaxis]\n",
        "testData_RH=testData_RH[:, np.newaxis]\n",
        "testData_LH=testData_LH[:, np.newaxis]\n",
        "testData=[testData_N,testData_RH,testData_LH]\n",
        "\n",
        "\n",
        "trainLength=len(trainingData_N)\n",
        "testLenght=len(testData_N)\n",
        "\n",
        "bins = np.linspace(0,15, len(trainingData_N))\n",
        "\n",
        "fig = plt.figure()\n",
        "fig, ax = plt.subplots(1, 3,figsize=(26,8), sharex=True, sharey=True)\n",
        "fig.subplots_adjust(hspace=0.05, wspace=0.05)\n",
        "\n",
        "\n",
        "#Histograma de los datos\n",
        "ax[0].hist(trainingData_N,bins=bins,**density_param, alpha=.7,facecolor='blue', label='N')\n",
        "ax[1].hist(trainingData_RH,bins=bins,**density_param, alpha=.7,facecolor='blue', label='RH')\n",
        "ax[2].hist(trainingData_LH,bins=bins,**density_param, alpha=.7,facecolor='blue', label='LH')\n",
        "ax[0].legend()\n",
        "ax[1].legend()\n",
        "ax[2].legend()\n",
        "ax[0].set_xlabel('Potencia')\n",
        "ax[1].set_xlabel('Potencia')\n",
        "ax[2].set_xlabel('Potencia')\n",
        "ax[0].set_ylabel('Realizaciones')\n",
        "ax[1].set_ylabel('Realizaciones')\n",
        "ax[2].set_ylabel('Realizaciones')\n",
        "\n",
        "\n",
        "#Modelos\n",
        "kde_N  = KernelDensity(kernel='gaussian', bandwidth=0.5).fit(trainingData_N)\n",
        "kde_RH = KernelDensity(kernel='gaussian', bandwidth=0.5).fit(trainingData_RH)\n",
        "kde_LH = KernelDensity(kernel='gaussian', bandwidth=0.5).fit(trainingData_LH)\n",
        "estimators=[kde_N,kde_RH,kde_LH]\n",
        "\n",
        "#Graficar el modelo\n",
        "grid_N  = np.linspace(0, np.max(trainingData_N)+5)[:, np.newaxis]\n",
        "grid_RH = np.linspace(0, np.max(trainingData_RH)+5)[:, np.newaxis]\n",
        "grid_LH = np.linspace(0, np.max(trainingData_LH)+5)[:, np.newaxis]\n",
        "\n",
        "logDens_N  = kde_N.score_samples(grid_N)\n",
        "logDens_RH = kde_RH.score_samples(grid_RH)\n",
        "logDens_LH = kde_LH.score_samples(grid_LH)\n",
        "\n",
        "ax[0].plot(grid_N,  np.exp(logDens_N),color='black',linewidth=3)\n",
        "ax[1].plot(grid_RH, np.exp(logDens_RH),color='black',linewidth=3)\n",
        "ax[2].plot(grid_LH, np.exp(logDens_LH),color='black',linewidth=3)\n",
        "\n",
        "\n",
        "hits=0\n",
        "p=[0,0,0]\n",
        "Phits=[0,0,0]\n",
        "for d in range(0,testLenght):\n",
        "  for est in range(0,3):\n",
        "    for k in range(0,3):\n",
        "      data=testData[k][d]\n",
        "      p[k]=np.exp(estimators[est].score_samples([data]))[0]\n",
        "    ind=p.index(np.max(p))\n",
        "    #print(p,est)\n",
        "    if ind==est:\n",
        "      hits=hits+1\n",
        "      Phits[est]=Phits[est]+1\n",
        "\n",
        "#Pt=hits/testLenght\n",
        "#print('KDE')\n",
        "#print(Pt)\n",
        "\n",
        "\n",
        "\n",
        "data,labels=Data('Fp1',6)\n",
        "X_train, X_test, y_train, y_test = train_test_split(data,labels, test_size=0.2, random_state=0)\n",
        "clf=GaussianClassifier()\n",
        "clf.train(X_train,y_train)\n",
        "predictions=clf.predict(X_train)\n",
        "print('Gaussian Classifier')\n",
        "print(clf.accuracy(predictions,y_train))\n",
        "\n",
        "\n",
        "ax[0].plot(grid_N, clf.prob_N.pdf(grid_N),color='red',linewidth=3)\n",
        "ax[1].plot(grid_RH, clf.prob_RH.pdf(grid_RH),color='red',linewidth=3)\n",
        "ax[2].plot(grid_LH, clf.prob_LH.pdf(grid_LH),color='red',linewidth=3)\n"
      ],
      "execution_count": null,
      "outputs": [
        {
          "output_type": "stream",
          "text": [
            "Gaussian Classifier\n",
            "0.5533779477374123\n"
          ],
          "name": "stdout"
        },
        {
          "output_type": "execute_result",
          "data": {
            "text/plain": [
              "[<matplotlib.lines.Line2D at 0x7ff4f383d1d0>]"
            ]
          },
          "metadata": {
            "tags": []
          },
          "execution_count": 12
        },
        {
          "output_type": "display_data",
          "data": {
            "text/plain": [
              "<Figure size 432x288 with 0 Axes>"
            ]
          },
          "metadata": {
            "tags": []
          }
        },
        {
          "output_type": "display_data",
          "data": {
            "image/png": "[encoded data removed]",
            "text/plain": [
              "<Figure size 1872x576 with 3 Axes>"
            ]
          },
          "metadata": {
            "tags": [],
            "needs_background": "light"
          }
        }
      ]
    },
    {
      "cell_type": "markdown",
      "metadata": {
        "id": "IQVgaLS62DMy"
      },
      "source": [
        "Finalmente, se prueban los modelos con los datos de test y se obtiene el porcentaje de precisión del modelo. "
      ]
    },
    {
      "cell_type": "markdown",
      "metadata": {
        "id": "xXcqiLJfvsA4"
      },
      "source": [
        "Como se puede ver, el porcentaje de precisión del modelo es de apenas 55%. Es posible que este porcentaje pueda mejorar si se incluyen más datos de entrenamiento, o bien, utilizando otras caracteristicas de los datos, por ejemplo.\n",
        "Sin embargo, se puede concluir que este modelo no es funcional para resolver el problema de clasificación. "
      ]
    }
  ]
}