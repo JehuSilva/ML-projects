{
 "cells": [
  {
   "cell_type": "code",
   "execution_count": 13,
   "metadata": {},
   "outputs": [],
   "source": [
    "import tensorflow as tf\n",
    "import numpy as np\n",
    "import matplotlib.pyplot as plt\n",
    "from tensorflow.examples.tutorials.mnist import input_data"
   ]
  },
  {
   "cell_type": "code",
   "execution_count": 5,
   "metadata": {},
   "outputs": [
    {
     "name": "stdout",
     "output_type": "stream",
     "text": [
      "Extracting MNIST_data/train-images-idx3-ubyte.gz\n",
      "Extracting MNIST_data/train-labels-idx1-ubyte.gz\n",
      "Extracting MNIST_data/t10k-images-idx3-ubyte.gz\n",
      "Extracting MNIST_data/t10k-labels-idx1-ubyte.gz\n"
     ]
    }
   ],
   "source": [
    "mnist = input_data.read_data_sets(\"MNIST_data/\", one_hot=True)"
   ]
  },
  {
   "cell_type": "code",
   "execution_count": 8,
   "metadata": {},
   "outputs": [],
   "source": [
    "def weight_variable (shape):\n",
    "    init=tf.random_normal(shape,stddev=0.01)\n",
    "    return tf.Variable(init)\n",
    "\n",
    "def conv2d(x,W):\n",
    "    return tf.nn.conv2d(x,W,strides=[1,1,1,1],padding='SAME')\n",
    "\n",
    "def max_pool22(x):\n",
    "    return tf.nn.max_pool(x,ksize=[1,2,2,1],strides=[1,2,2,1],padding='SAME')"
   ]
  },
  {
   "cell_type": "code",
   "execution_count": 47,
   "metadata": {},
   "outputs": [],
   "source": [
    "x=tf.placeholder(tf.float32, [None,784])\n",
    "y_=tf.placeholder(tf.float32,[None,10])\n",
    "\n",
    "x_image=tf.reshape(x,[-1,28,28,1])\n",
    "\n",
    "w_conv=weight_variable([5,5,1,10])\n",
    "b_conv=weight_variable([10])\n",
    "\n",
    "w_fc1=weight_variable([14*14*10,400])\n",
    "b_fc1=weight_variable([400])\n",
    "\n",
    "w_fc2=weight_variable([400,10])\n",
    "b_fc2=weight_variable([10])\n",
    "\n",
    "h_conv=tf.nn.relu(conv2d(x_image,w_conv)+b_conv)\n",
    "h_pool=max_pool22(h_conv)\n",
    "h_pool_flat=tf.reshape(h_pool,[-1,14*14*10])\n",
    "\n",
    "h_fc1=tf.nn.relu(tf.matmul(h_pool_flat,w_fc1)+b_fc1)\n",
    "y=tf.nn.softmax(tf.matmul(h_fc1,w_fc2)+b_fc2)\n",
    "\n",
    "mse=tf.reduce_mean(tf.square(y-y_))\n",
    "train_step=tf.train.AdamOptimizer(0.01).minimize(mse)\n",
    "#train_step=tf.train.GradientDescentOptimizer(0.08).minimize(mse)"
   ]
  },
  {
   "cell_type": "code",
   "execution_count": 48,
   "metadata": {},
   "outputs": [
    {
     "name": "stdout",
     "output_type": "stream",
     "text": [
      "Iteration: 0train MSE: 0.08852965\n",
      "Iteration: 50train MSE: 0.013230528\n",
      "Iteration: 100train MSE: 0.0033250672\n",
      "Iteration: 150train MSE: 0.0061588446\n",
      "Iteration: 200train MSE: 0.009826978\n",
      "Iteration: 250train MSE: 0.004267861\n",
      "Iteration: 300train MSE: 0.0068453914\n",
      "Optimization Finished!\n"
     ]
    }
   ],
   "source": [
    "sess=tf.Session()\n",
    "sess.run(tf.global_variables_initializer())\n",
    "\n",
    "for i in range(350):\n",
    "    batchX,batchY=mnist.train.next_batch(100)\n",
    "    sess.run(train_step,feed_dict={x:batchX, y_:batchY})\n",
    "\n",
    "    if i%50==0:\n",
    "        print('Iteration: '+str(i)+'train MSE: ' +str(sess.run(mse,feed_dict={x:batchX,y_:batchY})))\n",
    "\n",
    "print(\"Optimization Finished!\")"
   ]
  },
  {
   "cell_type": "code",
   "execution_count": 49,
   "metadata": {
    "scrolled": false
   },
   "outputs": [
    {
     "name": "stdout",
     "output_type": "stream",
     "text": [
      "[[1.33623772e-11 1.95062456e-12 2.82886266e-08 ... 1.00000000e+00\n",
      "  1.42524204e-11 1.45249830e-08]\n",
      " [1.34942493e-08 1.50508439e-09 1.00000000e+00 ... 4.76669220e-16\n",
      "  7.46448389e-12 8.50138005e-22]\n",
      " [1.17169591e-04 9.95865107e-01 1.83852844e-05 ... 2.04330820e-04\n",
      "  4.45928337e-04 2.44479219e-04]\n",
      " ...\n",
      " [6.72445294e-11 2.57307224e-08 2.73115020e-11 ... 7.71716373e-07\n",
      "  6.14611736e-06 1.12999944e-04]\n",
      " [7.82489143e-11 4.14391924e-11 3.49630815e-17 ... 7.38409889e-10\n",
      "  1.98981866e-07 3.64231028e-06]\n",
      " [4.63642147e-09 1.05522702e-10 1.04491062e-06 ... 5.02729965e-13\n",
      "  2.81788800e-07 6.18804975e-13]]\n"
     ]
    }
   ],
   "source": [
    "preds=sess.run(y,feed_dict={x:mnist.test.images,y_:mnist.test.labels})\n",
    "print(preds)\n",
    "preds=np.argmax(preds,axis=1)\n",
    "truelabels=np.argmax(mnist.test.labels,axis=1)\n",
    "errors=0.\n",
    "ci=0"
   ]
  },
  {
   "cell_type": "code",
   "execution_count": 50,
   "metadata": {},
   "outputs": [
    {
     "data": {
      "image/png": "[encoded data removed]",
      "text/plain": [
       "<Figure size 432x288 with 1 Axes>"
      ]
     },
     "metadata": {
      "needs_background": "light"
     },
     "output_type": "display_data"
    },
    {
     "name": "stdout",
     "output_type": "stream",
     "text": [
      "Pred: 2 TrueLabel: 7\n"
     ]
    },
    {
     "data": {
      "image/png": "[encoded data removed]",
      "text/plain": [
       "<Figure size 432x288 with 1 Axes>"
      ]
     },
     "metadata": {
      "needs_background": "light"
     },
     "output_type": "display_data"
    },
    {
     "name": "stdout",
     "output_type": "stream",
     "text": [
      "Pred: 9 TrueLabel: 7\n"
     ]
    },
    {
     "data": {
      "image/png": "[encoded data removed]",
      "text/plain": [
       "<Figure size 432x288 with 1 Axes>"
      ]
     },
     "metadata": {
      "needs_background": "light"
     },
     "output_type": "display_data"
    },
    {
     "name": "stdout",
     "output_type": "stream",
     "text": [
      "Pred: 4 TrueLabel: 9\n"
     ]
    },
    {
     "data": {
      "image/png": "[encoded data removed]",
      "text/plain": [
       "<Figure size 432x288 with 1 Axes>"
      ]
     },
     "metadata": {
      "needs_background": "light"
     },
     "output_type": "display_data"
    },
    {
     "name": "stdout",
     "output_type": "stream",
     "text": [
      "Pred: 8 TrueLabel: 4\n"
     ]
    },
    {
     "data": {
      "image/png": "[encoded data removed]",
      "text/plain": [
       "<Figure size 432x288 with 1 Axes>"
      ]
     },
     "metadata": {
      "needs_background": "light"
     },
     "output_type": "display_data"
    },
    {
     "name": "stdout",
     "output_type": "stream",
     "text": [
      "Pred: 5 TrueLabel: 6\n",
      "Test error: 0.0356\n"
     ]
    }
   ],
   "source": [
    "for i in range (preds.shape[0]):\n",
    "    if preds[i]!=truelabels[i]:\n",
    "        if ci<5:\n",
    "            plt.imshow(mnist.test.images[i].reshape(28,28),cmap='gray')\n",
    "            plt.show()\n",
    "            ci=ci+1\n",
    "            print('Pred: '+str(preds[i])+' TrueLabel: '+ str(truelabels[i]))\n",
    "        errors=errors+1\n",
    "print('Test error: '+str(errors/preds.shape[0]))"
   ]
  },
  {
   "cell_type": "code",
   "execution_count": 51,
   "metadata": {
    "scrolled": true
   },
   "outputs": [
    {
     "name": "stdout",
     "output_type": "stream",
     "text": [
      "(5, 5, 1, 10)\n"
     ]
    },
    {
     "data": {
      "image/png": "[encoded data removed]",
      "text/plain": [
       "<Figure size 432x288 with 10 Axes>"
      ]
     },
     "metadata": {
      "needs_background": "light"
     },
     "output_type": "display_data"
    }
   ],
   "source": [
    "kernel=sess.run(w_conv)\n",
    "print(kernel.shape)\n",
    "f,axes=plt.subplots(2,5)\n",
    "for i in range(10):\n",
    "    axes.ravel()[i].imshow(kernel[:,:,0,i],cmap='gray',interpolation='none')\n",
    "    acts=sess.run(h_conv,feed_dict={x:mnist.test.images[0:100]})"
   ]
  },
  {
   "cell_type": "code",
   "execution_count": 58,
   "metadata": {},
   "outputs": [
    {
     "name": "stdout",
     "output_type": "stream",
     "text": [
      "(100, 28, 28, 10)\n"
     ]
    },
    {
     "data": {
      "image/png": "[encoded data removed]",
      "text/plain": [
       "<Figure size 432x288 with 10 Axes>"
      ]
     },
     "metadata": {
      "needs_background": "light"
     },
     "output_type": "display_data"
    }
   ],
   "source": [
    "print(acts.shape)\n",
    "f,axes=plt.subplots(2,5)\n",
    "index=1\n",
    "for i in range(10):\n",
    "    axes.ravel()[i].imshow(acts[index,:,:,i],cmap='gray')\n",
    "\n",
    "    \n",
    "plt.show()\n"
   ]
  },
  {
   "cell_type": "code",
   "execution_count": null,
   "metadata": {},
   "outputs": [],
   "source": []
  },
  {
   "cell_type": "code",
   "execution_count": null,
   "metadata": {},
   "outputs": [],
   "source": []
  }
 ],
 "metadata": {
  "kernelspec": {
   "display_name": "Python 3",
   "language": "python",
   "name": "python3"
  },
  "language_info": {
   "codemirror_mode": {
    "name": "ipython",
    "version": 3
   },
   "file_extension": ".py",
   "mimetype": "text/x-python",
   "name": "python",
   "nbconvert_exporter": "python",
   "pygments_lexer": "ipython3",
   "version": "3.7.7"
  }
 },
 "nbformat": 4,
 "nbformat_minor": 4
}
