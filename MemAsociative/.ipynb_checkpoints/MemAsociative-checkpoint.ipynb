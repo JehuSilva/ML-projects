{
 "cells": [
  {
   "cell_type": "code",
   "execution_count": 133,
   "metadata": {},
   "outputs": [],
   "source": [
    "import numpy as np\n",
    "from sklearn import datasets\n",
    "import matplotlib.pyplot as plt\n",
    "from sklearn.preprocessing import StandardScaler\n",
    "from sklearn.preprocessing import MinMaxScaler"
   ]
  },
  {
   "cell_type": "code",
   "execution_count": 134,
   "metadata": {},
   "outputs": [],
   "source": [
    "Iris= datasets.load_iris()"
   ]
  },
  {
   "cell_type": "code",
   "execution_count": 135,
   "metadata": {},
   "outputs": [],
   "source": [
    "X=Iris.data\n",
    "Y=Iris.target"
   ]
  },
  {
   "cell_type": "code",
   "execution_count": 136,
   "metadata": {},
   "outputs": [],
   "source": [
    "standar_Scaler=StandardScaler()\n",
    "minmax_Scaler=MinMaxScaler()"
   ]
  },
  {
   "cell_type": "code",
   "execution_count": 137,
   "metadata": {},
   "outputs": [],
   "source": [
    "X=standar_Scaler.fit_transform(X)"
   ]
  },
  {
   "cell_type": "code",
   "execution_count": 142,
   "metadata": {},
   "outputs": [],
   "source": [
    "def winner (W,width,x):\n",
    "    win =disEucl(x,W[0,0])\n",
    "    CI=0\n",
    "    CJ=0\n",
    "    \n",
    "    for i in range(width):\n",
    "        for j in range(width):\n",
    "            tmp= disEucl(W[i,j],x)\n",
    "            if(tmp<win):\n",
    "                win=tmp\n",
    "                CI=i\n",
    "                CJ=j\n",
    "    return CI,CJ, win"
   ]
  },
  {
   "cell_type": "code",
   "execution_count": 143,
   "metadata": {},
   "outputs": [],
   "source": [
    "def disEucl(a,b):\n",
    "    return ((a-b)**2).sum()**0.5"
   ]
  },
  {
   "cell_type": "code",
   "execution_count": 145,
   "metadata": {},
   "outputs": [],
   "source": [
    "Ci, Cj, ww=winner(W,width,X[0])"
   ]
  },
  {
   "cell_type": "code",
   "execution_count": 146,
   "metadata": {},
   "outputs": [],
   "source": [
    "def training(W,width,Ci,Cj,x,neighbors=3,n=0.9):\n",
    "    for i in np.arange(Ci-neighbors,Ci+neighbors+1):\n",
    "        for j in np.arange(Cj-neighbors,Cj+neighbors+1):\n",
    "            if((i>=0 and i<width) and (j>=0 and j<width)):\n",
    "                manhathan = np.abs(Ci-i)+np.abs(Cj-j)\n",
    "                W[i,j]+=n*1.0/(1+manhathan)*(x-W[i,j])\n",
    "    return W\n"
   ]
  },
  {
   "cell_type": "code",
   "execution_count": 147,
   "metadata": {},
   "outputs": [],
   "source": [
    "for i in range(10000):\n",
    "    indx = np.random.randint(150)\n",
    "    ip, jp, gan=winner(W,width,X[indx])\n",
    "    W=training(W,width, ip,jp,X[indx],2)"
   ]
  }
 ],
 "metadata": {
  "kernelspec": {
   "display_name": "Python 3",
   "language": "python",
   "name": "python3"
  },
  "language_info": {
   "codemirror_mode": {
    "name": "ipython",
    "version": 3
   },
   "file_extension": ".py",
   "mimetype": "text/x-python",
   "name": "python",
   "nbconvert_exporter": "python",
   "pygments_lexer": "ipython3",
   "version": "3.7.7"
  }
 },
 "nbformat": 4,
 "nbformat_minor": 4
}
